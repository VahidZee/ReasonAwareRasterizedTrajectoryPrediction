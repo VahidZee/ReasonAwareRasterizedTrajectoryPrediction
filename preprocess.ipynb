{
 "cells": [
  {
   "cell_type": "code",
   "execution_count": null,
   "metadata": {},
   "outputs": [],
   "source": [
    "import pytorch_lightning as pl\n",
    "from l5kit.configs import load_config_data\n",
    "from raster.lyft import LyftTrainerModule, LyftDataModule\n",
    "\n",
    "config = load_config_data(\"config.yaml\")\n",
    "data = LyftDataModule('/Users/vahidzee/Desktop/data/lyft_data/', config)\n",
    "data.setup()"
   ]
  },
  {
   "cell_type": "code",
   "execution_count": null,
   "metadata": {},
   "outputs": [],
   "source": [
    "from raster.lyft.data.preprocess import DataSplitter\n",
    "\n",
    "splitter = DataSplitter(data.train_data, prog=True, autosave=True)\n",
    "splitter.split(step=5)"
   ]
  },
  {
   "cell_type": "code",
   "execution_count": null,
   "metadata": {},
   "outputs": [],
   "source": [
    "axes = splitter.plot_stats(kind='violin', dodge=True, split=True)"
   ]
  }
 ],
 "metadata": {
  "kernelspec": {
   "display_name": "Python 3",
   "language": "python",
   "name": "python3"
  },
  "language_info": {
   "codemirror_mode": {
    "name": "ipython",
    "version": 3
   },
   "file_extension": ".py",
   "mimetype": "text/x-python",
   "name": "python",
   "nbconvert_exporter": "python",
   "pygments_lexer": "ipython3",
   "version": "3.7.4"
  }
 },
 "nbformat": 4,
 "nbformat_minor": 4
}
