{
 "cells": [
  {
   "cell_type": "markdown",
   "metadata": {},
   "source": [
    "# Initializing Colab"
   ]
  },
  {
   "cell_type": "markdown",
   "metadata": {},
   "source": [
    "Installing pytorch_xla"
   ]
  },
  {
   "cell_type": "code",
   "execution_count": null,
   "metadata": {},
   "outputs": [],
   "source": [
    "!curl https://raw.githubusercontent.com/pytorch/xla/master/contrib/scripts/env-setup.py -o pytorch-xla-env-setup.py\n",
    "!python pytorch-xla-env-setup.py --version nightly --apt-packages libomp5 libopenblas-dev"
   ]
  },
  {
   "cell_type": "markdown",
   "metadata": {},
   "source": [
    "Downloading data"
   ]
  },
  {
   "cell_type": "code",
   "execution_count": null,
   "metadata": {},
   "outputs": [],
   "source": [
    "!wget https://lyft-l5-datasets-public.s3-us-west-2.amazonaws.com/prediction/v1.1/{sample.tar,aerial_map.tar,semantic_map.tar}\n",
    "!mkdir -p lyft/scenes/ lyft/aerial_map/ lyft/semantic_map/\n",
    "!tar -xf sample.tar sample.zarr && mv sample.zarr lyft/scenes/ && rm sample.tar\n",
    "!tar -xf aerial_map.tar -C lyft/ && rm aerial_map.tar\n",
    "!tar -xf semantic_map.tar meta.json && mv meta.json lyft/\n",
    "!tar -xf semantic_map.tar semantic_map.pb && mv semantic_map.pb lyft/semantic_map/ && rm semantic_map.tar"
   ]
  },
  {
   "cell_type": "markdown",
   "metadata": {},
   "source": [
    "Cloning repository and installing dependencies"
   ]
  },
  {
   "cell_type": "code",
   "execution_count": null,
   "metadata": {},
   "outputs": [],
   "source": [
    "!git clone https://github.com/VahidZee/ReasonAwareRasterizedTrajectoryPrediction.git\n",
    "cd ReasonAwareRasterizedTrajectoryPrediction\n",
    "pip install -r requirements.txt"
   ]
  },
  {
   "cell_type": "markdown",
   "metadata": {},
   "source": [
    "# Importing dependencies"
   ]
  },
  {
   "cell_type": "code",
   "execution_count": null,
   "metadata": {},
   "outputs": [],
   "source": [
    "import pytorch_lightning as pl\n",
    "from l5kit.configs import load_config_data\n",
    "from raster import BaseResnet, BaseTrainerModule, LyftDataModule"
   ]
  },
  {
   "cell_type": "markdown",
   "metadata": {},
   "source": [
    "## Initializing various parts"
   ]
  },
  {
   "cell_type": "code",
   "execution_count": null,
   "metadata": {},
   "outputs": [],
   "source": [
    "config = load_config_data('./config.yaml')\n",
    "datamodule = LyftDataModule('/Users/vahidzee/Desktop/lyft_data', config)\n",
    "model = BaseResnet(\n",
    "    in_channels = ( config[\"model_params\"][\"history_num_frames\"] + 1) * 2 + 3,\n",
    "    out_dim = 2 * config[\"model_params\"][\"future_num_frames\"],\n",
    "    model_type = config['model_params']['model_architecture'],\n",
    "    pretrained = True,\n",
    ")\n",
    "training_procedure = BaseTrainerModule(model=model)\n",
    "training_procedure.datamodule = datamodule"
   ]
  },
  {
   "cell_type": "code",
   "execution_count": null,
   "metadata": {},
   "outputs": [],
   "source": [
    "trainer = pl.Trainer(tpus=8)"
   ]
  },
  {
   "cell_type": "code",
   "execution_count": null,
   "metadata": {},
   "outputs": [],
   "source": [
    "%load_ext tensorboard\n",
    "%tensorboard --logdir=lightning_logs"
   ]
  },
  {
   "cell_type": "code",
   "execution_count": null,
   "metadata": {},
   "outputs": [],
   "source": [
    "trainer.fit(training_procedure)"
   ]
  }
 ],
 "metadata": {
  "kernelspec": {
   "display_name": "Python 3",
   "language": "python",
   "name": "python3"
  },
  "language_info": {
   "codemirror_mode": {
    "name": "ipython",
    "version": 3
   },
   "file_extension": ".py",
   "mimetype": "text/x-python",
   "name": "python",
   "nbconvert_exporter": "python",
   "pygments_lexer": "ipython3",
   "version": "3.7.4"
  }
 },
 "nbformat": 4,
 "nbformat_minor": 4
}
